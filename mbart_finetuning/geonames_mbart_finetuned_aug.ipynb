{
 "cells": [
  {
   "cell_type": "markdown",
   "metadata": {
    "id": "dv2mI-RekpZ4"
   },
   "source": [
    "# Cопоставление геоназваний с унифицированными именами geonames"
   ]
  },
  {
   "cell_type": "markdown",
   "metadata": {
    "deletable": false,
    "id": "NyiuYXdmkpZ6",
    "tags": [
     "a0ea6cf0-58f4-4b62-808c-26c82dd0478d"
    ]
   },
   "source": [
    "# Задача"
   ]
  },
  {
   "cell_type": "markdown",
   "metadata": {
    "id": "KeDGzg2DkpZ6"
   },
   "source": [
    "- Создать решение для подбора наиболее подходящих названий с geonames.\n",
    "Например Ереван -> Yerevan\n",
    "- На примере РФ и стран наиболее популярных для релокации - Беларусь, Армения,\n",
    "Казахстан, Кыргызстан, Турция, Сербия. Города с населением от 15000 человек (с\n",
    "возможностью масштабирования на сервере заказчика)\n",
    "- Возвращаемые поля *geonameid, name, region, country, cosine similarity*\n",
    "- формат данных на выходе: список словарей, например [{dict_1}, {dict_2}, …. {dict_n}], где словарь - одна запись с указанными полями"
   ]
  },
  {
   "cell_type": "markdown",
   "metadata": {
    "id": "y-4YZfQQkpZ6"
   },
   "source": [
    "# Цель"
   ]
  },
  {
   "cell_type": "markdown",
   "metadata": {
    "id": "-LsXM-dMkpZ7"
   },
   "source": [
    "Сопоставление произвольных гео названий с унифицированными именами geonames для внутреннего использования Карьерным центром."
   ]
  },
  {
   "cell_type": "markdown",
   "metadata": {
    "id": "fCFPnHMGkpZ7"
   },
   "source": [
    "# План работы"
   ]
  },
  {
   "cell_type": "markdown",
   "metadata": {
    "id": "4cFmiRbZkpZ7"
   },
   "source": [
    "- Провеcти исследовательский анализ данных.\n",
    "- Подготовить данные к обучению.\n",
    "  - Первый способ через подключение сторонних сайтов с помощью API\n",
    "  - Второй способ обучение модели с помощью DML.\n",
    "    - Обучить нейронную сеть и рассчитайте её качество."
   ]
  },
  {
   "cell_type": "markdown",
   "metadata": {
    "id": "AEuxAKjZkpZ7"
   },
   "source": [
    "# Описание данных"
   ]
  },
  {
   "cell_type": "markdown",
   "metadata": {
    "id": "0BR2ffuVkpZ7"
   },
   "source": [
    "Используемые таблицы с geonames:\n",
    "- admin1CodesASCII\n",
    "- alternateNamesV2\n",
    "- cities15000\n",
    "- countryInfo\n",
    "- при необходимости любые другие открытые данные\n",
    "- таблицы geonames можно скачать здесь http://download.geonames.org/export/dump/\n",
    "- Тестовый датасет: https://disk.yandex.ru/d/wC296Rj3Yso2AQ\n"
   ]
  },
  {
   "cell_type": "code",
   "execution_count": 1,
   "metadata": {
    "execution": {
     "iopub.execute_input": "2023-12-23T00:19:46.773789Z",
     "iopub.status.busy": "2023-12-23T00:19:46.773431Z",
     "iopub.status.idle": "2023-12-23T00:19:46.801817Z",
     "shell.execute_reply": "2023-12-23T00:19:46.800965Z",
     "shell.execute_reply.started": "2023-12-23T00:19:46.773756Z"
    },
    "id": "FZLst5ECRmJS"
   },
   "outputs": [],
   "source": [
    "%load_ext autoreload\n",
    "%autoreload 2"
   ]
  },
  {
   "cell_type": "markdown",
   "metadata": {
    "id": "wcU3iu9EkpZ7"
   },
   "source": [
    "**Импортируем и устаналиваем необходимые библиотеки (pandas, numpy, transformers и другие).**"
   ]
  },
  {
   "cell_type": "code",
   "execution_count": 2,
   "metadata": {
    "colab": {
     "base_uri": "https://localhost:8080/"
    },
    "execution": {
     "iopub.execute_input": "2023-12-23T00:19:48.415182Z",
     "iopub.status.busy": "2023-12-23T00:19:48.414788Z",
     "iopub.status.idle": "2023-12-23T00:20:00.164424Z",
     "shell.execute_reply": "2023-12-23T00:20:00.163334Z",
     "shell.execute_reply.started": "2023-12-23T00:19:48.415147Z"
    },
    "id": "5lvgkuatQia-",
    "outputId": "2adc03cb-c5fd-4ec3-b78b-19599c1ce020"
   },
   "outputs": [
    {
     "name": "stdout",
     "output_type": "stream",
     "text": [
      "Requirement already satisfied: pyspellchecker in /opt/conda/lib/python3.10/site-packages (0.7.2)\n"
     ]
    }
   ],
   "source": [
    "!pip install pyspellchecker"
   ]
  },
  {
   "cell_type": "code",
   "execution_count": 3,
   "metadata": {
    "colab": {
     "base_uri": "https://localhost:8080/"
    },
    "execution": {
     "iopub.execute_input": "2023-12-23T00:20:00.166989Z",
     "iopub.status.busy": "2023-12-23T00:20:00.166606Z",
     "iopub.status.idle": "2023-12-23T00:20:15.395014Z",
     "shell.execute_reply": "2023-12-23T00:20:15.394205Z",
     "shell.execute_reply.started": "2023-12-23T00:20:00.166951Z"
    },
    "id": "jYwxp7w5Qia-",
    "outputId": "5e40f42f-c256-42b5-930a-a57778f930a7"
   },
   "outputs": [
    {
     "name": "stdout",
     "output_type": "stream",
     "text": [
      "Requirement already satisfied: sentence_transformers in /opt/conda/lib/python3.10/site-packages (2.2.2)\n",
      "Requirement already satisfied: transformers<5.0.0,>=4.6.0 in /opt/conda/lib/python3.10/site-packages (from sentence_transformers) (4.36.0)\n",
      "Requirement already satisfied: tqdm in /opt/conda/lib/python3.10/site-packages (from sentence_transformers) (4.66.1)\n",
      "Requirement already satisfied: torch>=1.6.0 in /opt/conda/lib/python3.10/site-packages (from sentence_transformers) (2.0.0)\n",
      "Requirement already satisfied: torchvision in /opt/conda/lib/python3.10/site-packages (from sentence_transformers) (0.15.1)\n",
      "Requirement already satisfied: numpy in /opt/conda/lib/python3.10/site-packages (from sentence_transformers) (1.24.3)\n",
      "Requirement already satisfied: scikit-learn in /opt/conda/lib/python3.10/site-packages (from sentence_transformers) (1.2.2)\n",
      "Requirement already satisfied: scipy in /opt/conda/lib/python3.10/site-packages (from sentence_transformers) (1.11.4)\n",
      "Requirement already satisfied: nltk in /opt/conda/lib/python3.10/site-packages (from sentence_transformers) (3.2.4)\n",
      "Requirement already satisfied: sentencepiece in /opt/conda/lib/python3.10/site-packages (from sentence_transformers) (0.1.99)\n",
      "Requirement already satisfied: huggingface-hub>=0.4.0 in /opt/conda/lib/python3.10/site-packages (from sentence_transformers) (0.19.4)\n",
      "Requirement already satisfied: filelock in /opt/conda/lib/python3.10/site-packages (from huggingface-hub>=0.4.0->sentence_transformers) (3.12.2)\n",
      "Requirement already satisfied: fsspec>=2023.5.0 in /opt/conda/lib/python3.10/site-packages (from huggingface-hub>=0.4.0->sentence_transformers) (2023.12.2)\n",
      "Requirement already satisfied: requests in /opt/conda/lib/python3.10/site-packages (from huggingface-hub>=0.4.0->sentence_transformers) (2.31.0)\n",
      "Requirement already satisfied: pyyaml>=5.1 in /opt/conda/lib/python3.10/site-packages (from huggingface-hub>=0.4.0->sentence_transformers) (6.0.1)\n",
      "Requirement already satisfied: typing-extensions>=3.7.4.3 in /opt/conda/lib/python3.10/site-packages (from huggingface-hub>=0.4.0->sentence_transformers) (4.5.0)\n",
      "Requirement already satisfied: packaging>=20.9 in /opt/conda/lib/python3.10/site-packages (from huggingface-hub>=0.4.0->sentence_transformers) (21.3)\n",
      "Requirement already satisfied: sympy in /opt/conda/lib/python3.10/site-packages (from torch>=1.6.0->sentence_transformers) (1.12)\n",
      "Requirement already satisfied: networkx in /opt/conda/lib/python3.10/site-packages (from torch>=1.6.0->sentence_transformers) (3.1)\n",
      "Requirement already satisfied: jinja2 in /opt/conda/lib/python3.10/site-packages (from torch>=1.6.0->sentence_transformers) (3.1.2)\n",
      "Requirement already satisfied: regex!=2019.12.17 in /opt/conda/lib/python3.10/site-packages (from transformers<5.0.0,>=4.6.0->sentence_transformers) (2023.8.8)\n",
      "Requirement already satisfied: tokenizers<0.19,>=0.14 in /opt/conda/lib/python3.10/site-packages (from transformers<5.0.0,>=4.6.0->sentence_transformers) (0.15.0)\n",
      "Requirement already satisfied: safetensors>=0.3.1 in /opt/conda/lib/python3.10/site-packages (from transformers<5.0.0,>=4.6.0->sentence_transformers) (0.4.1)\n",
      "Requirement already satisfied: six in /opt/conda/lib/python3.10/site-packages (from nltk->sentence_transformers) (1.16.0)\n",
      "Requirement already satisfied: joblib>=1.1.1 in /opt/conda/lib/python3.10/site-packages (from scikit-learn->sentence_transformers) (1.3.2)\n",
      "Requirement already satisfied: threadpoolctl>=2.0.0 in /opt/conda/lib/python3.10/site-packages (from scikit-learn->sentence_transformers) (3.2.0)\n",
      "Requirement already satisfied: pillow!=8.3.*,>=5.3.0 in /opt/conda/lib/python3.10/site-packages (from torchvision->sentence_transformers) (10.1.0)\n",
      "Requirement already satisfied: pyparsing!=3.0.5,>=2.0.2 in /opt/conda/lib/python3.10/site-packages (from packaging>=20.9->huggingface-hub>=0.4.0->sentence_transformers) (3.0.9)\n",
      "Requirement already satisfied: MarkupSafe>=2.0 in /opt/conda/lib/python3.10/site-packages (from jinja2->torch>=1.6.0->sentence_transformers) (2.1.3)\n",
      "Requirement already satisfied: charset-normalizer<4,>=2 in /opt/conda/lib/python3.10/site-packages (from requests->huggingface-hub>=0.4.0->sentence_transformers) (3.2.0)\n",
      "Requirement already satisfied: idna<4,>=2.5 in /opt/conda/lib/python3.10/site-packages (from requests->huggingface-hub>=0.4.0->sentence_transformers) (3.4)\n",
      "Requirement already satisfied: urllib3<3,>=1.21.1 in /opt/conda/lib/python3.10/site-packages (from requests->huggingface-hub>=0.4.0->sentence_transformers) (1.26.15)\n",
      "Requirement already satisfied: certifi>=2017.4.17 in /opt/conda/lib/python3.10/site-packages (from requests->huggingface-hub>=0.4.0->sentence_transformers) (2023.11.17)\n",
      "Requirement already satisfied: mpmath>=0.19 in /opt/conda/lib/python3.10/site-packages (from sympy->torch>=1.6.0->sentence_transformers) (1.3.0)\n"
     ]
    },
    {
     "name": "stderr",
     "output_type": "stream",
     "text": [
      "/opt/conda/lib/python3.10/site-packages/scipy/__init__.py:146: UserWarning: A NumPy version >=1.16.5 and <1.23.0 is required for this version of SciPy (detected version 1.24.3\n",
      "  warnings.warn(f\"A NumPy version >={np_minversion} and <{np_maxversion}\"\n"
     ]
    }
   ],
   "source": [
    "!pip install -U sentence_transformers\n",
    "\n",
    "from sentence_transformers import SentenceTransformer, InputExample, util"
   ]
  },
  {
   "cell_type": "code",
   "execution_count": 4,
   "metadata": {
    "execution": {
     "iopub.execute_input": "2023-12-23T00:20:15.396531Z",
     "iopub.status.busy": "2023-12-23T00:20:15.396142Z",
     "iopub.status.idle": "2023-12-23T00:20:15.446800Z",
     "shell.execute_reply": "2023-12-23T00:20:15.445824Z",
     "shell.execute_reply.started": "2023-12-23T00:20:15.396504Z"
    }
   },
   "outputs": [
    {
     "name": "stdout",
     "output_type": "stream",
     "text": [
      "/kaggle/input/mbart-aug/corpus.csv\n",
      "/kaggle/input/mbart-aug/augmentation_add_typo.py\n",
      "/kaggle/input/mbart-aug/geo_test.csv\n",
      "/kaggle/input/mbart-aug/city_dataset.py\n"
     ]
    }
   ],
   "source": [
    "import os\n",
    "for dirname, _, filenames in os.walk('/kaggle/input'):\n",
    "    for filename in filenames:\n",
    "        print(os.path.join(dirname, filename))"
   ]
  },
  {
   "cell_type": "code",
   "execution_count": 5,
   "metadata": {
    "execution": {
     "iopub.execute_input": "2023-12-23T00:20:15.449680Z",
     "iopub.status.busy": "2023-12-23T00:20:15.449319Z",
     "iopub.status.idle": "2023-12-23T00:20:15.494785Z",
     "shell.execute_reply": "2023-12-23T00:20:15.494007Z",
     "shell.execute_reply.started": "2023-12-23T00:20:15.449645Z"
    }
   },
   "outputs": [],
   "source": [
    "import sys\n",
    "sys.path.append('/kaggle/input/mbart-aug/')"
   ]
  },
  {
   "cell_type": "code",
   "execution_count": 6,
   "metadata": {
    "execution": {
     "iopub.execute_input": "2023-12-23T00:20:15.496081Z",
     "iopub.status.busy": "2023-12-23T00:20:15.495820Z",
     "iopub.status.idle": "2023-12-23T00:20:18.901081Z",
     "shell.execute_reply": "2023-12-23T00:20:18.900299Z",
     "shell.execute_reply.started": "2023-12-23T00:20:15.496039Z"
    },
    "id": "rzKBvNOxkpZ8"
   },
   "outputs": [],
   "source": [
    "import os\n",
    "import re\n",
    "import pandas as pd\n",
    "import numpy as np\n",
    "\n",
    "from sklearn.model_selection import train_test_split\n",
    "\n",
    "from augmentation_add_typo import AugTypo\n",
    "from tqdm.auto import tqdm\n",
    "from tqdm import notebook\n",
    "\n",
    "# NLP\n",
    "\n",
    "import torch\n",
    "import torch.nn as nn\n",
    "import transformers\n",
    "\n",
    "from transformers import (MBartForConditionalGeneration,\n",
    "                          MBart50TokenizerFast,\n",
    "                          AdamW,\n",
    "                          get_linear_schedule_with_warmup,\n",
    "                          DataCollatorWithPadding)\n",
    "from torch.utils.data import Dataset, DataLoader, TensorDataset\n",
    "from city_dataset import CityDataset\n",
    "\n",
    "import nltk"
   ]
  },
  {
   "cell_type": "markdown",
   "metadata": {
    "id": "wRdnu5GKoo-e"
   },
   "source": [
    "Так как расчеты проводятся в Google Colab. То сразу загрузим запрос из базы данных в виде таблицы **corpus_rus**."
   ]
  },
  {
   "cell_type": "code",
   "execution_count": 7,
   "metadata": {
    "execution": {
     "iopub.execute_input": "2023-12-23T00:20:18.902830Z",
     "iopub.status.busy": "2023-12-23T00:20:18.902300Z",
     "iopub.status.idle": "2023-12-23T00:20:18.999086Z",
     "shell.execute_reply": "2023-12-23T00:20:18.998148Z",
     "shell.execute_reply.started": "2023-12-23T00:20:18.902798Z"
    }
   },
   "outputs": [],
   "source": [
    "\n",
    "corpus_rus = pd.read_csv(\"/kaggle/input/mbart-aug/corpus.csv\", delimiter=';')"
   ]
  },
  {
   "cell_type": "code",
   "execution_count": null,
   "metadata": {
    "colab": {
     "base_uri": "https://localhost:8080/",
     "height": 226
    },
    "id": "X0acmDtFRmJY",
    "outputId": "c42c17de-288d-44cc-fe12-c8aebcb7fa1e"
   },
   "outputs": [],
   "source": [
    "if os.path.exists('corpus.csv'):\n",
    "    corpus_rus = pd.read_csv(\"corpus.csv\", delimiter=';')\n",
    "elif os.path.exists('C:/Users/User/Desktop/DS Python/Geonames/data/corpus.csv'):\n",
    "    corpus_rus = pd.read_csv(\"C:/Users/User/Desktop/DS Python/Geonames/data/corpus.csv\",\n",
    "                           delimiter=';')\n",
    "else:\n",
    "    print('Something is wrong')\n",
    "\n",
    "corpus_rus.head()"
   ]
  },
  {
   "cell_type": "markdown",
   "metadata": {
    "id": "FV8LZc2ADHhD"
   },
   "source": [
    "Проверим, какие страны у нас были в запросе и таблице."
   ]
  },
  {
   "cell_type": "code",
   "execution_count": 8,
   "metadata": {
    "colab": {
     "base_uri": "https://localhost:8080/"
    },
    "execution": {
     "iopub.execute_input": "2023-12-23T00:20:19.000483Z",
     "iopub.status.busy": "2023-12-23T00:20:19.000190Z",
     "iopub.status.idle": "2023-12-23T00:20:19.083422Z",
     "shell.execute_reply": "2023-12-23T00:20:19.082425Z",
     "shell.execute_reply.started": "2023-12-23T00:20:19.000456Z"
    },
    "id": "tqM4sXNHMRUU",
    "outputId": "38024d00-39bc-4ac1-91be-5bd82886f7f7"
   },
   "outputs": [
    {
     "data": {
      "text/plain": [
       "array(['Armenia', 'Belarus', 'Kyrgyzstan', 'Kazakhstan', 'Russia',\n",
       "       'Serbia', 'Turkey'], dtype=object)"
      ]
     },
     "execution_count": 8,
     "metadata": {},
     "output_type": "execute_result"
    }
   ],
   "source": [
    "corpus_rus['country'].unique()"
   ]
  },
  {
   "cell_type": "markdown",
   "metadata": {
    "id": "0cY0aN-zkpZ8"
   },
   "source": [
    "**Подготовим данные к обучению.**"
   ]
  },
  {
   "cell_type": "code",
   "execution_count": 9,
   "metadata": {
    "colab": {
     "base_uri": "https://localhost:8080/"
    },
    "execution": {
     "iopub.execute_input": "2023-12-23T00:20:19.084921Z",
     "iopub.status.busy": "2023-12-23T00:20:19.084617Z",
     "iopub.status.idle": "2023-12-23T00:20:19.210587Z",
     "shell.execute_reply": "2023-12-23T00:20:19.209695Z",
     "shell.execute_reply.started": "2023-12-23T00:20:19.084896Z"
    },
    "id": "_coBcYXckpZ8",
    "outputId": "e8ba8d93-fbf0-42a1-ea87-f7cb739aa284"
   },
   "outputs": [
    {
     "name": "stderr",
     "output_type": "stream",
     "text": [
      "/tmp/ipykernel_6976/3393550930.py:4: SettingWithCopyWarning: \n",
      "A value is trying to be set on a copy of a slice from a DataFrame.\n",
      "Try using .loc[row_indexer,col_indexer] = value instead\n",
      "\n",
      "See the caveats in the documentation: https://pandas.pydata.org/pandas-docs/stable/user_guide/indexing.html#returning-a-view-versus-a-copy\n",
      "  corpus.alternatenames = corpus.alternatenames.str.split(',')\n"
     ]
    }
   ],
   "source": [
    "# Удаляем пропущенные значения из таблицы\n",
    "corpus = corpus_rus.dropna()\n",
    "# Разделяем значения в столбце 'alternatenames'\n",
    "corpus.alternatenames = corpus.alternatenames.str.split(',')\n",
    "# Приводим к виду 1 наименование asciiname = 1 наименование alternatenames\n",
    "corpus = corpus.explode('alternatenames')\n",
    "# Удаляем совпадающие значения в столбцах\n",
    "corpus = corpus[corpus.asciiname!=corpus.alternatenames]\n",
    "# Удаляем парные дубликаты из двух столбцов\n",
    "corpus = corpus.drop_duplicates(subset=['asciiname', 'alternatenames'])"
   ]
  },
  {
   "cell_type": "markdown",
   "metadata": {
    "id": "CzJcxqfQkpZ9"
   },
   "source": [
    "**Выведем первые 5 строк преобразованной таблицы` и размер на экран.**"
   ]
  },
  {
   "cell_type": "code",
   "execution_count": 10,
   "metadata": {
    "colab": {
     "base_uri": "https://localhost:8080/",
     "height": 226
    },
    "execution": {
     "iopub.execute_input": "2023-12-23T00:20:19.212065Z",
     "iopub.status.busy": "2023-12-23T00:20:19.211764Z",
     "iopub.status.idle": "2023-12-23T00:20:19.302027Z",
     "shell.execute_reply": "2023-12-23T00:20:19.301021Z",
     "shell.execute_reply.started": "2023-12-23T00:20:19.212023Z"
    },
    "id": "Lz3E19HokpZ9",
    "outputId": "683e7239-3e63-4073-a1d3-ff0933fd63b5"
   },
   "outputs": [
    {
     "data": {
      "text/html": [
       "<div>\n",
       "<style scoped>\n",
       "    .dataframe tbody tr th:only-of-type {\n",
       "        vertical-align: middle;\n",
       "    }\n",
       "\n",
       "    .dataframe tbody tr th {\n",
       "        vertical-align: top;\n",
       "    }\n",
       "\n",
       "    .dataframe thead th {\n",
       "        text-align: right;\n",
       "    }\n",
       "</style>\n",
       "<table border=\"1\" class=\"dataframe\">\n",
       "  <thead>\n",
       "    <tr style=\"text-align: right;\">\n",
       "      <th></th>\n",
       "      <th>geonameid</th>\n",
       "      <th>name</th>\n",
       "      <th>asciiname</th>\n",
       "      <th>alternatenames</th>\n",
       "      <th>population</th>\n",
       "      <th>country</th>\n",
       "      <th>country_code</th>\n",
       "      <th>admin1_code</th>\n",
       "      <th>concat_code</th>\n",
       "      <th>region</th>\n",
       "      <th>ascii_region</th>\n",
       "    </tr>\n",
       "  </thead>\n",
       "  <tbody>\n",
       "    <tr>\n",
       "      <th>0</th>\n",
       "      <td>174875</td>\n",
       "      <td>Kapan</td>\n",
       "      <td>Kapan</td>\n",
       "      <td>Ghap'an</td>\n",
       "      <td>33160</td>\n",
       "      <td>Armenia</td>\n",
       "      <td>AM</td>\n",
       "      <td>08</td>\n",
       "      <td>AM.08</td>\n",
       "      <td>Syunik</td>\n",
       "      <td>Syunik</td>\n",
       "    </tr>\n",
       "    <tr>\n",
       "      <th>0</th>\n",
       "      <td>174875</td>\n",
       "      <td>Kapan</td>\n",
       "      <td>Kapan</td>\n",
       "      <td>Ghapan</td>\n",
       "      <td>33160</td>\n",
       "      <td>Armenia</td>\n",
       "      <td>AM</td>\n",
       "      <td>08</td>\n",
       "      <td>AM.08</td>\n",
       "      <td>Syunik</td>\n",
       "      <td>Syunik</td>\n",
       "    </tr>\n",
       "    <tr>\n",
       "      <th>0</th>\n",
       "      <td>174875</td>\n",
       "      <td>Kapan</td>\n",
       "      <td>Kapan</td>\n",
       "      <td>Ghap’an</td>\n",
       "      <td>33160</td>\n",
       "      <td>Armenia</td>\n",
       "      <td>AM</td>\n",
       "      <td>08</td>\n",
       "      <td>AM.08</td>\n",
       "      <td>Syunik</td>\n",
       "      <td>Syunik</td>\n",
       "    </tr>\n",
       "    <tr>\n",
       "      <th>0</th>\n",
       "      <td>174875</td>\n",
       "      <td>Kapan</td>\n",
       "      <td>Kapan</td>\n",
       "      <td>Kafan</td>\n",
       "      <td>33160</td>\n",
       "      <td>Armenia</td>\n",
       "      <td>AM</td>\n",
       "      <td>08</td>\n",
       "      <td>AM.08</td>\n",
       "      <td>Syunik</td>\n",
       "      <td>Syunik</td>\n",
       "    </tr>\n",
       "    <tr>\n",
       "      <th>0</th>\n",
       "      <td>174875</td>\n",
       "      <td>Kapan</td>\n",
       "      <td>Kapan</td>\n",
       "      <td>Kafin</td>\n",
       "      <td>33160</td>\n",
       "      <td>Armenia</td>\n",
       "      <td>AM</td>\n",
       "      <td>08</td>\n",
       "      <td>AM.08</td>\n",
       "      <td>Syunik</td>\n",
       "      <td>Syunik</td>\n",
       "    </tr>\n",
       "  </tbody>\n",
       "</table>\n",
       "</div>"
      ],
      "text/plain": [
       "   geonameid   name asciiname alternatenames  population  country  \\\n",
       "0     174875  Kapan     Kapan        Ghap'an       33160  Armenia   \n",
       "0     174875  Kapan     Kapan         Ghapan       33160  Armenia   \n",
       "0     174875  Kapan     Kapan        Ghap’an       33160  Armenia   \n",
       "0     174875  Kapan     Kapan          Kafan       33160  Armenia   \n",
       "0     174875  Kapan     Kapan          Kafin       33160  Armenia   \n",
       "\n",
       "  country_code admin1_code concat_code  region ascii_region  \n",
       "0           AM          08       AM.08  Syunik       Syunik  \n",
       "0           AM          08       AM.08  Syunik       Syunik  \n",
       "0           AM          08       AM.08  Syunik       Syunik  \n",
       "0           AM          08       AM.08  Syunik       Syunik  \n",
       "0           AM          08       AM.08  Syunik       Syunik  "
      ]
     },
     "execution_count": 10,
     "metadata": {},
     "output_type": "execute_result"
    }
   ],
   "source": [
    "corpus.head()"
   ]
  },
  {
   "cell_type": "code",
   "execution_count": 11,
   "metadata": {
    "colab": {
     "base_uri": "https://localhost:8080/"
    },
    "execution": {
     "iopub.execute_input": "2023-12-23T00:20:19.304842Z",
     "iopub.status.busy": "2023-12-23T00:20:19.304544Z",
     "iopub.status.idle": "2023-12-23T00:20:19.386986Z",
     "shell.execute_reply": "2023-12-23T00:20:19.386028Z",
     "shell.execute_reply.started": "2023-12-23T00:20:19.304817Z"
    },
    "id": "BQ_Itt38-GgN",
    "outputId": "81bb0cc4-2e76-45fd-cd22-6cab3a98e6e2"
   },
   "outputs": [
    {
     "data": {
      "text/plain": [
       "(22722, 11)"
      ]
     },
     "execution_count": 11,
     "metadata": {},
     "output_type": "execute_result"
    }
   ],
   "source": [
    "corpus.shape"
   ]
  },
  {
   "cell_type": "markdown",
   "metadata": {
    "id": "64RdAmD8GEZd"
   },
   "source": [
    "Список оригинальных названий городов, для которых будем искать совпадения."
   ]
  },
  {
   "cell_type": "code",
   "execution_count": null,
   "metadata": {
    "colab": {
     "base_uri": "https://localhost:8080/"
    },
    "id": "B9-AgjRLg2Br",
    "outputId": "5f05553d-e6f7-4445-a8ab-8f3fb46c771c"
   },
   "outputs": [],
   "source": [
    "name = corpus.asciiname.drop_duplicates().values\n",
    "name"
   ]
  },
  {
   "cell_type": "markdown",
   "metadata": {
    "id": "4vyFo2BcRGM1"
   },
   "source": [
    "Создадим копию нового списка, где у нас будут только необходимые данные для обучения и создания аугментаций."
   ]
  },
  {
   "cell_type": "code",
   "execution_count": 12,
   "metadata": {
    "colab": {
     "base_uri": "https://localhost:8080/",
     "height": 548
    },
    "execution": {
     "iopub.execute_input": "2023-12-23T00:20:19.388339Z",
     "iopub.status.busy": "2023-12-23T00:20:19.388036Z",
     "iopub.status.idle": "2023-12-23T00:20:19.510742Z",
     "shell.execute_reply": "2023-12-23T00:20:19.509850Z",
     "shell.execute_reply.started": "2023-12-23T00:20:19.388314Z"
    },
    "id": "2cdLhg-HN6k3",
    "outputId": "57a9c1b0-b400-4464-a300-2141596ba4b6"
   },
   "outputs": [
    {
     "name": "stderr",
     "output_type": "stream",
     "text": [
      "/tmp/ipykernel_6976/3558713722.py:4: SettingWithCopyWarning: \n",
      "A value is trying to be set on a copy of a slice from a DataFrame.\n",
      "Try using .loc[row_indexer,col_indexer] = value instead\n",
      "\n",
      "See the caveats in the documentation: https://pandas.pydata.org/pandas-docs/stable/user_guide/indexing.html#returning-a-view-versus-a-copy\n",
      "  city.alternatenames = city.alternatenames.str.split(',')\n"
     ]
    },
    {
     "data": {
      "text/html": [
       "<div>\n",
       "<style scoped>\n",
       "    .dataframe tbody tr th:only-of-type {\n",
       "        vertical-align: middle;\n",
       "    }\n",
       "\n",
       "    .dataframe tbody tr th {\n",
       "        vertical-align: top;\n",
       "    }\n",
       "\n",
       "    .dataframe thead th {\n",
       "        text-align: right;\n",
       "    }\n",
       "</style>\n",
       "<table border=\"1\" class=\"dataframe\">\n",
       "  <thead>\n",
       "    <tr style=\"text-align: right;\">\n",
       "      <th></th>\n",
       "      <th>asciiname</th>\n",
       "      <th>alternatenames</th>\n",
       "      <th>country</th>\n",
       "    </tr>\n",
       "  </thead>\n",
       "  <tbody>\n",
       "    <tr>\n",
       "      <th>0</th>\n",
       "      <td>Kapan</td>\n",
       "      <td>Ghap'an</td>\n",
       "      <td>Armenia</td>\n",
       "    </tr>\n",
       "    <tr>\n",
       "      <th>0</th>\n",
       "      <td>Kapan</td>\n",
       "      <td>Ghapan</td>\n",
       "      <td>Armenia</td>\n",
       "    </tr>\n",
       "    <tr>\n",
       "      <th>0</th>\n",
       "      <td>Kapan</td>\n",
       "      <td>Ghap’an</td>\n",
       "      <td>Armenia</td>\n",
       "    </tr>\n",
       "    <tr>\n",
       "      <th>0</th>\n",
       "      <td>Kapan</td>\n",
       "      <td>Kafan</td>\n",
       "      <td>Armenia</td>\n",
       "    </tr>\n",
       "    <tr>\n",
       "      <th>0</th>\n",
       "      <td>Kapan</td>\n",
       "      <td>Kafin</td>\n",
       "      <td>Armenia</td>\n",
       "    </tr>\n",
       "    <tr>\n",
       "      <th>...</th>\n",
       "      <td>...</td>\n",
       "      <td>...</td>\n",
       "      <td>...</td>\n",
       "    </tr>\n",
       "    <tr>\n",
       "      <th>1701</th>\n",
       "      <td>Beylikduezue</td>\n",
       "      <td>Beylikduzu</td>\n",
       "      <td>Turkey</td>\n",
       "    </tr>\n",
       "    <tr>\n",
       "      <th>1703</th>\n",
       "      <td>Cankaya</td>\n",
       "      <td>Cankaya</td>\n",
       "      <td>Turkey</td>\n",
       "    </tr>\n",
       "    <tr>\n",
       "      <th>1703</th>\n",
       "      <td>Cankaya</td>\n",
       "      <td>Çankaya</td>\n",
       "      <td>Turkey</td>\n",
       "    </tr>\n",
       "    <tr>\n",
       "      <th>1709</th>\n",
       "      <td>Muratpasa</td>\n",
       "      <td>Muratpasa</td>\n",
       "      <td>Turkey</td>\n",
       "    </tr>\n",
       "    <tr>\n",
       "      <th>1709</th>\n",
       "      <td>Muratpasa</td>\n",
       "      <td>Muratpaşa</td>\n",
       "      <td>Turkey</td>\n",
       "    </tr>\n",
       "  </tbody>\n",
       "</table>\n",
       "<p>24338 rows × 3 columns</p>\n",
       "</div>"
      ],
      "text/plain": [
       "         asciiname alternatenames  country\n",
       "0            Kapan        Ghap'an  Armenia\n",
       "0            Kapan         Ghapan  Armenia\n",
       "0            Kapan        Ghap’an  Armenia\n",
       "0            Kapan          Kafan  Armenia\n",
       "0            Kapan          Kafin  Armenia\n",
       "...            ...            ...      ...\n",
       "1701  Beylikduezue     Beylikduzu   Turkey\n",
       "1703       Cankaya        Cankaya   Turkey\n",
       "1703       Cankaya        Çankaya   Turkey\n",
       "1709     Muratpasa      Muratpasa   Turkey\n",
       "1709     Muratpasa      Muratpaşa   Turkey\n",
       "\n",
       "[24338 rows x 3 columns]"
      ]
     },
     "execution_count": 12,
     "metadata": {},
     "output_type": "execute_result"
    }
   ],
   "source": [
    "# Удаляем пропущенные значения из таблицы\n",
    "city = corpus_rus.dropna()\n",
    "# Разделяем значения в столбце 'alternatenames'\n",
    "city.alternatenames = city.alternatenames.str.split(',')\n",
    "# Приводим к виду 1 наименование asciiname = 1 наименование alternatenames\n",
    "city = city.explode('alternatenames')\n",
    "# Оставляем только 3 столбца\n",
    "city = city[['asciiname', 'alternatenames', 'country']]\n",
    "# Удаляем парные дубликаты из двух столбцов\n",
    "city = city.drop_duplicates(subset=['asciiname', 'alternatenames'])\n",
    "city"
   ]
  },
  {
   "cell_type": "markdown",
   "metadata": {
    "id": "UqOhDRv3N5PY"
   },
   "source": [
    "Создадим экземпляр класса AugTypo()"
   ]
  },
  {
   "cell_type": "code",
   "execution_count": 13,
   "metadata": {
    "execution": {
     "iopub.execute_input": "2023-12-23T00:20:19.512551Z",
     "iopub.status.busy": "2023-12-23T00:20:19.511890Z",
     "iopub.status.idle": "2023-12-23T00:20:19.600762Z",
     "shell.execute_reply": "2023-12-23T00:20:19.599816Z",
     "shell.execute_reply.started": "2023-12-23T00:20:19.512514Z"
    },
    "id": "-c04gDLgMhIy"
   },
   "outputs": [],
   "source": [
    "aug_typo = AugTypo()"
   ]
  },
  {
   "cell_type": "markdown",
   "metadata": {
    "id": "ZThMPXs9OAFi"
   },
   "source": [
    "Создадим новые имена из альтернативных, внеся опечатку"
   ]
  },
  {
   "cell_type": "code",
   "execution_count": 14,
   "metadata": {
    "execution": {
     "iopub.execute_input": "2023-12-23T00:20:25.484648Z",
     "iopub.status.busy": "2023-12-23T00:20:25.483824Z",
     "iopub.status.idle": "2023-12-23T00:22:32.055644Z",
     "shell.execute_reply": "2023-12-23T00:22:32.054605Z",
     "shell.execute_reply.started": "2023-12-23T00:20:25.484605Z"
    },
    "id": "Lmvrqy4cHwNO"
   },
   "outputs": [],
   "source": [
    "# Создаем аугментированную таблицу с опечатками\n",
    "augmented_names = []\n",
    "for i in range(len(list(city['alternatenames']))):\n",
    "    augmented_names.append(aug_typo.add_typo(list(city['alternatenames'])[i],\n",
    "                                             list(city['country'])[i]))"
   ]
  },
  {
   "cell_type": "code",
   "execution_count": 15,
   "metadata": {
    "colab": {
     "base_uri": "https://localhost:8080/"
    },
    "execution": {
     "iopub.execute_input": "2023-12-23T00:22:35.348184Z",
     "iopub.status.busy": "2023-12-23T00:22:35.347462Z",
     "iopub.status.idle": "2023-12-23T00:22:35.434782Z",
     "shell.execute_reply": "2023-12-23T00:22:35.433738Z",
     "shell.execute_reply.started": "2023-12-23T00:22:35.348147Z"
    },
    "id": "6EudSGynZLnT",
    "outputId": "dc012f78-a9ce-4671-ec88-8dbd877c18b1"
   },
   "outputs": [
    {
     "name": "stdout",
     "output_type": "stream",
     "text": [
      "Длина нового датасета с опечатками: 24338\n"
     ]
    }
   ],
   "source": [
    "print('Длина нового датасета с опечатками:', len(augmented_names))"
   ]
  },
  {
   "cell_type": "code",
   "execution_count": 16,
   "metadata": {
    "colab": {
     "base_uri": "https://localhost:8080/"
    },
    "execution": {
     "iopub.execute_input": "2023-12-23T00:22:36.864136Z",
     "iopub.status.busy": "2023-12-23T00:22:36.863452Z",
     "iopub.status.idle": "2023-12-23T00:22:36.950498Z",
     "shell.execute_reply": "2023-12-23T00:22:36.949687Z",
     "shell.execute_reply.started": "2023-12-23T00:22:36.864100Z"
    },
    "id": "loQZ1rshNlV1",
    "outputId": "008482f6-3376-4095-ac81-f40e83908240"
   },
   "outputs": [
    {
     "name": "stdout",
     "output_type": "stream",
     "text": [
      "Оценим несколько новых имен: [\"Ghap'էn\", 'Ghaձan', 'Ghզp’an', 'Kaէan', 'Kafiթ', 'Kճpan', 'Kapanջs']\n"
     ]
    }
   ],
   "source": [
    "print('Оценим несколько новых имен:', augmented_names[:7])"
   ]
  },
  {
   "cell_type": "markdown",
   "metadata": {
    "id": "IROiHck8kpZ-"
   },
   "source": [
    "Загрузим модель из библиотеки transformers."
   ]
  },
  {
   "cell_type": "code",
   "execution_count": 17,
   "metadata": {
    "execution": {
     "iopub.execute_input": "2023-12-23T00:22:39.217131Z",
     "iopub.status.busy": "2023-12-23T00:22:39.216697Z",
     "iopub.status.idle": "2023-12-23T00:22:48.877546Z",
     "shell.execute_reply": "2023-12-23T00:22:48.876550Z",
     "shell.execute_reply.started": "2023-12-23T00:22:39.217087Z"
    },
    "id": "UOtVPp31XSwO"
   },
   "outputs": [],
   "source": [
    "# Загрузка предварительно обученной модели mBART и токенизатора\n",
    "checkpoint = 'facebook/mbart-large-50-many-to-many-mmt'\n",
    "tokenizer = MBart50TokenizerFast.from_pretrained(checkpoint)\n",
    "mbart_model = MBartForConditionalGeneration.from_pretrained(checkpoint)"
   ]
  },
  {
   "cell_type": "markdown",
   "metadata": {
    "id": "bAX06Wd1Qw9s"
   },
   "source": [
    "Добавим новый столбец с опечатками в таблицу city."
   ]
  },
  {
   "cell_type": "code",
   "execution_count": 18,
   "metadata": {
    "colab": {
     "base_uri": "https://localhost:8080/",
     "height": 424
    },
    "execution": {
     "iopub.execute_input": "2023-12-23T00:22:48.879683Z",
     "iopub.status.busy": "2023-12-23T00:22:48.879338Z",
     "iopub.status.idle": "2023-12-23T00:22:48.985500Z",
     "shell.execute_reply": "2023-12-23T00:22:48.984339Z",
     "shell.execute_reply.started": "2023-12-23T00:22:48.879655Z"
    },
    "id": "xiTLd-E_LmL6",
    "outputId": "f5638886-3e58-4700-d66d-fa468f6c8cf6"
   },
   "outputs": [
    {
     "data": {
      "text/html": [
       "<div>\n",
       "<style scoped>\n",
       "    .dataframe tbody tr th:only-of-type {\n",
       "        vertical-align: middle;\n",
       "    }\n",
       "\n",
       "    .dataframe tbody tr th {\n",
       "        vertical-align: top;\n",
       "    }\n",
       "\n",
       "    .dataframe thead th {\n",
       "        text-align: right;\n",
       "    }\n",
       "</style>\n",
       "<table border=\"1\" class=\"dataframe\">\n",
       "  <thead>\n",
       "    <tr style=\"text-align: right;\">\n",
       "      <th></th>\n",
       "      <th>asciiname</th>\n",
       "      <th>alternatenames</th>\n",
       "      <th>country</th>\n",
       "      <th>augmented_names</th>\n",
       "      <th>sum_aug</th>\n",
       "    </tr>\n",
       "  </thead>\n",
       "  <tbody>\n",
       "    <tr>\n",
       "      <th>0</th>\n",
       "      <td>Kapan</td>\n",
       "      <td>Ghap'an</td>\n",
       "      <td>Armenia</td>\n",
       "      <td>Ghap'էn</td>\n",
       "      <td>Ghap'an,Ghap'էn</td>\n",
       "    </tr>\n",
       "    <tr>\n",
       "      <th>0</th>\n",
       "      <td>Kapan</td>\n",
       "      <td>Ghapan</td>\n",
       "      <td>Armenia</td>\n",
       "      <td>Ghaձan</td>\n",
       "      <td>Ghapan,Ghaձan</td>\n",
       "    </tr>\n",
       "    <tr>\n",
       "      <th>0</th>\n",
       "      <td>Kapan</td>\n",
       "      <td>Ghap’an</td>\n",
       "      <td>Armenia</td>\n",
       "      <td>Ghզp’an</td>\n",
       "      <td>Ghap’an,Ghզp’an</td>\n",
       "    </tr>\n",
       "    <tr>\n",
       "      <th>0</th>\n",
       "      <td>Kapan</td>\n",
       "      <td>Kafan</td>\n",
       "      <td>Armenia</td>\n",
       "      <td>Kaէan</td>\n",
       "      <td>Kafan,Kaէan</td>\n",
       "    </tr>\n",
       "    <tr>\n",
       "      <th>0</th>\n",
       "      <td>Kapan</td>\n",
       "      <td>Kafin</td>\n",
       "      <td>Armenia</td>\n",
       "      <td>Kafiթ</td>\n",
       "      <td>Kafin,Kafiթ</td>\n",
       "    </tr>\n",
       "    <tr>\n",
       "      <th>...</th>\n",
       "      <td>...</td>\n",
       "      <td>...</td>\n",
       "      <td>...</td>\n",
       "      <td>...</td>\n",
       "      <td>...</td>\n",
       "    </tr>\n",
       "    <tr>\n",
       "      <th>1701</th>\n",
       "      <td>Beylikduezue</td>\n",
       "      <td>Beylikduzu</td>\n",
       "      <td>Turkey</td>\n",
       "      <td>Bemlikduzu</td>\n",
       "      <td>Beylikduzu,Bemlikduzu</td>\n",
       "    </tr>\n",
       "    <tr>\n",
       "      <th>1703</th>\n",
       "      <td>Cankaya</td>\n",
       "      <td>Cankaya</td>\n",
       "      <td>Turkey</td>\n",
       "      <td>Cankara</td>\n",
       "      <td>Cankaya,Cankara</td>\n",
       "    </tr>\n",
       "    <tr>\n",
       "      <th>1703</th>\n",
       "      <td>Cankaya</td>\n",
       "      <td>Çankaya</td>\n",
       "      <td>Turkey</td>\n",
       "      <td>Çankhya</td>\n",
       "      <td>Çankaya,Çankhya</td>\n",
       "    </tr>\n",
       "    <tr>\n",
       "      <th>1709</th>\n",
       "      <td>Muratpasa</td>\n",
       "      <td>Muratpasa</td>\n",
       "      <td>Turkey</td>\n",
       "      <td>turatpasa</td>\n",
       "      <td>Muratpasa,turatpasa</td>\n",
       "    </tr>\n",
       "    <tr>\n",
       "      <th>1709</th>\n",
       "      <td>Muratpasa</td>\n",
       "      <td>Muratpaşa</td>\n",
       "      <td>Turkey</td>\n",
       "      <td>huratpaşa</td>\n",
       "      <td>Muratpaşa,huratpaşa</td>\n",
       "    </tr>\n",
       "  </tbody>\n",
       "</table>\n",
       "<p>24338 rows × 5 columns</p>\n",
       "</div>"
      ],
      "text/plain": [
       "         asciiname alternatenames  country augmented_names  \\\n",
       "0            Kapan        Ghap'an  Armenia         Ghap'էn   \n",
       "0            Kapan         Ghapan  Armenia          Ghaձan   \n",
       "0            Kapan        Ghap’an  Armenia         Ghզp’an   \n",
       "0            Kapan          Kafan  Armenia           Kaէan   \n",
       "0            Kapan          Kafin  Armenia           Kafiթ   \n",
       "...            ...            ...      ...             ...   \n",
       "1701  Beylikduezue     Beylikduzu   Turkey      Bemlikduzu   \n",
       "1703       Cankaya        Cankaya   Turkey         Cankara   \n",
       "1703       Cankaya        Çankaya   Turkey         Çankhya   \n",
       "1709     Muratpasa      Muratpasa   Turkey       turatpasa   \n",
       "1709     Muratpasa      Muratpaşa   Turkey       huratpaşa   \n",
       "\n",
       "                    sum_aug  \n",
       "0           Ghap'an,Ghap'էn  \n",
       "0             Ghapan,Ghaձan  \n",
       "0           Ghap’an,Ghզp’an  \n",
       "0               Kafan,Kaէan  \n",
       "0               Kafin,Kafiթ  \n",
       "...                     ...  \n",
       "1701  Beylikduzu,Bemlikduzu  \n",
       "1703        Cankaya,Cankara  \n",
       "1703        Çankaya,Çankhya  \n",
       "1709    Muratpasa,turatpasa  \n",
       "1709    Muratpaşa,huratpaşa  \n",
       "\n",
       "[24338 rows x 5 columns]"
      ]
     },
     "execution_count": 18,
     "metadata": {},
     "output_type": "execute_result"
    }
   ],
   "source": [
    "city['augmented_names'] = augmented_names\n",
    "city['sum_aug'] = city['alternatenames'] + ',' + city['augmented_names']\n",
    "city"
   ]
  },
  {
   "cell_type": "markdown",
   "metadata": {
    "id": "H9eWcti3RnQ2"
   },
   "source": [
    "Теперь подготовим данные к обучению. Созданный столбец с суммарными названиями городов"
   ]
  },
  {
   "cell_type": "code",
   "execution_count": 19,
   "metadata": {
    "colab": {
     "base_uri": "https://localhost:8080/",
     "height": 424
    },
    "execution": {
     "iopub.execute_input": "2023-12-23T00:22:48.987696Z",
     "iopub.status.busy": "2023-12-23T00:22:48.987271Z",
     "iopub.status.idle": "2023-12-23T00:22:49.176679Z",
     "shell.execute_reply": "2023-12-23T00:22:49.175764Z",
     "shell.execute_reply.started": "2023-12-23T00:22:48.987660Z"
    },
    "id": "chrxmOgNLmGt",
    "outputId": "d313dccb-8b43-403c-d1e0-f295190efe93"
   },
   "outputs": [
    {
     "data": {
      "text/html": [
       "<div>\n",
       "<style scoped>\n",
       "    .dataframe tbody tr th:only-of-type {\n",
       "        vertical-align: middle;\n",
       "    }\n",
       "\n",
       "    .dataframe tbody tr th {\n",
       "        vertical-align: top;\n",
       "    }\n",
       "\n",
       "    .dataframe thead th {\n",
       "        text-align: right;\n",
       "    }\n",
       "</style>\n",
       "<table border=\"1\" class=\"dataframe\">\n",
       "  <thead>\n",
       "    <tr style=\"text-align: right;\">\n",
       "      <th></th>\n",
       "      <th>asciiname</th>\n",
       "      <th>alternatenames</th>\n",
       "      <th>country</th>\n",
       "      <th>augmented_names</th>\n",
       "      <th>sum_aug</th>\n",
       "    </tr>\n",
       "  </thead>\n",
       "  <tbody>\n",
       "    <tr>\n",
       "      <th>0</th>\n",
       "      <td>Kapan</td>\n",
       "      <td>Ghap'an</td>\n",
       "      <td>Armenia</td>\n",
       "      <td>Ghap'էn</td>\n",
       "      <td>Ghap'an</td>\n",
       "    </tr>\n",
       "    <tr>\n",
       "      <th>0</th>\n",
       "      <td>Kapan</td>\n",
       "      <td>Ghap'an</td>\n",
       "      <td>Armenia</td>\n",
       "      <td>Ghap'էn</td>\n",
       "      <td>Ghap'էn</td>\n",
       "    </tr>\n",
       "    <tr>\n",
       "      <th>0</th>\n",
       "      <td>Kapan</td>\n",
       "      <td>Ghapan</td>\n",
       "      <td>Armenia</td>\n",
       "      <td>Ghaձan</td>\n",
       "      <td>Ghapan</td>\n",
       "    </tr>\n",
       "    <tr>\n",
       "      <th>0</th>\n",
       "      <td>Kapan</td>\n",
       "      <td>Ghapan</td>\n",
       "      <td>Armenia</td>\n",
       "      <td>Ghaձan</td>\n",
       "      <td>Ghaձan</td>\n",
       "    </tr>\n",
       "    <tr>\n",
       "      <th>0</th>\n",
       "      <td>Kapan</td>\n",
       "      <td>Ghap’an</td>\n",
       "      <td>Armenia</td>\n",
       "      <td>Ghզp’an</td>\n",
       "      <td>Ghap’an</td>\n",
       "    </tr>\n",
       "    <tr>\n",
       "      <th>...</th>\n",
       "      <td>...</td>\n",
       "      <td>...</td>\n",
       "      <td>...</td>\n",
       "      <td>...</td>\n",
       "      <td>...</td>\n",
       "    </tr>\n",
       "    <tr>\n",
       "      <th>1703</th>\n",
       "      <td>Cankaya</td>\n",
       "      <td>Çankaya</td>\n",
       "      <td>Turkey</td>\n",
       "      <td>Çankhya</td>\n",
       "      <td>Çankaya</td>\n",
       "    </tr>\n",
       "    <tr>\n",
       "      <th>1703</th>\n",
       "      <td>Cankaya</td>\n",
       "      <td>Çankaya</td>\n",
       "      <td>Turkey</td>\n",
       "      <td>Çankhya</td>\n",
       "      <td>Çankhya</td>\n",
       "    </tr>\n",
       "    <tr>\n",
       "      <th>1709</th>\n",
       "      <td>Muratpasa</td>\n",
       "      <td>Muratpasa</td>\n",
       "      <td>Turkey</td>\n",
       "      <td>turatpasa</td>\n",
       "      <td>turatpasa</td>\n",
       "    </tr>\n",
       "    <tr>\n",
       "      <th>1709</th>\n",
       "      <td>Muratpasa</td>\n",
       "      <td>Muratpaşa</td>\n",
       "      <td>Turkey</td>\n",
       "      <td>huratpaşa</td>\n",
       "      <td>Muratpaşa</td>\n",
       "    </tr>\n",
       "    <tr>\n",
       "      <th>1709</th>\n",
       "      <td>Muratpasa</td>\n",
       "      <td>Muratpaşa</td>\n",
       "      <td>Turkey</td>\n",
       "      <td>huratpaşa</td>\n",
       "      <td>huratpaşa</td>\n",
       "    </tr>\n",
       "  </tbody>\n",
       "</table>\n",
       "<p>47048 rows × 5 columns</p>\n",
       "</div>"
      ],
      "text/plain": [
       "      asciiname alternatenames  country augmented_names    sum_aug\n",
       "0         Kapan        Ghap'an  Armenia         Ghap'էn    Ghap'an\n",
       "0         Kapan        Ghap'an  Armenia         Ghap'էn    Ghap'էn\n",
       "0         Kapan         Ghapan  Armenia          Ghaձan     Ghapan\n",
       "0         Kapan         Ghapan  Armenia          Ghaձan     Ghaձan\n",
       "0         Kapan        Ghap’an  Armenia         Ghզp’an    Ghap’an\n",
       "...         ...            ...      ...             ...        ...\n",
       "1703    Cankaya        Çankaya   Turkey         Çankhya    Çankaya\n",
       "1703    Cankaya        Çankaya   Turkey         Çankhya    Çankhya\n",
       "1709  Muratpasa      Muratpasa   Turkey       turatpasa  turatpasa\n",
       "1709  Muratpasa      Muratpaşa   Turkey       huratpaşa  Muratpaşa\n",
       "1709  Muratpasa      Muratpaşa   Turkey       huratpaşa  huratpaşa\n",
       "\n",
       "[47048 rows x 5 columns]"
      ]
     },
     "execution_count": 19,
     "metadata": {},
     "output_type": "execute_result"
    }
   ],
   "source": [
    "# Создание списка городов и универсальных названий\n",
    "city = city.dropna()\n",
    "# Разделяем значения в столбце 'sum_aug'\n",
    "city.sum_aug = city.sum_aug.str.split(',')\n",
    "# Приводим к виду 1 наименование asciiname = 1 наименование sum_aug\n",
    "city = city.explode('sum_aug')\n",
    "# Удаляем совпадающие значения в столбцах\n",
    "city = city[city.asciiname!=city.sum_aug]\n",
    "# Удаляем парные дубликаты из двух столбцов\n",
    "city = city.drop_duplicates(subset=['asciiname', 'sum_aug'])\n",
    "city"
   ]
  },
  {
   "cell_type": "markdown",
   "metadata": {
    "id": "uBWF-z8DTREb"
   },
   "source": [
    "Токенизируем наши значения на входе в модель и на выходе."
   ]
  },
  {
   "cell_type": "code",
   "execution_count": 20,
   "metadata": {
    "colab": {
     "base_uri": "https://localhost:8080/"
    },
    "execution": {
     "iopub.execute_input": "2023-12-23T00:22:49.179324Z",
     "iopub.status.busy": "2023-12-23T00:22:49.178728Z",
     "iopub.status.idle": "2023-12-23T00:22:52.972098Z",
     "shell.execute_reply": "2023-12-23T00:22:52.971241Z",
     "shell.execute_reply.started": "2023-12-23T00:22:49.179286Z"
    },
    "id": "W7WskIFSQibE",
    "outputId": "c9e02910-97fc-45e4-9c04-5a08a2781f13"
   },
   "outputs": [
    {
     "name": "stderr",
     "output_type": "stream",
     "text": [
      "Asking to truncate to max_length but no maximum length is provided and the model has no predefined maximum length. Default to no truncation.\n"
     ]
    }
   ],
   "source": [
    "# Токенизируем выходящие значения из модели (the labels)\n",
    "tokenized_labels = tokenizer(list(city['asciiname']), padding=True,\n",
    "                             truncation=True, return_tensors=\"pt\")\n",
    "# Токенизируем входящие значения в модель (the input sentences)\n",
    "tokenized_inputs = tokenizer(list(city['sum_aug']), padding=True,\n",
    "                             truncation=True, return_tensors=\"pt\")\n",
    "\n",
    "# Преобразуем значения в понятный для модели вид\n",
    "# input_ids и attention_mask берем из the tokenized input\n",
    "input_ids = tokenized_inputs[\"input_ids\"]\n",
    "attention_mask = tokenized_inputs[\"attention_mask\"]\n",
    "labels = tokenized_labels[\"input_ids\"]"
   ]
  },
  {
   "cell_type": "markdown",
   "metadata": {},
   "source": [
    "Разделим данные на тренировочную и валидационную выборки"
   ]
  },
  {
   "cell_type": "code",
   "execution_count": 21,
   "metadata": {
    "execution": {
     "iopub.execute_input": "2023-12-23T00:22:52.973955Z",
     "iopub.status.busy": "2023-12-23T00:22:52.973652Z",
     "iopub.status.idle": "2023-12-23T00:22:53.072044Z",
     "shell.execute_reply": "2023-12-23T00:22:53.071115Z",
     "shell.execute_reply.started": "2023-12-23T00:22:52.973930Z"
    }
   },
   "outputs": [],
   "source": [
    "input_ids_train, input_ids_val, attention_mask_train, attention_mask_val, labels_train, labels_val = \\\n",
    "    train_test_split(input_ids, attention_mask, labels, test_size=0.1, random_state=42)"
   ]
  },
  {
   "cell_type": "markdown",
   "metadata": {},
   "source": [
    "Теперь создадим датасет с помощью кастомного класса CityDataset(). И передадим все в data_collator, чтобы распределить данные по батчам."
   ]
  },
  {
   "cell_type": "code",
   "execution_count": 22,
   "metadata": {
    "execution": {
     "iopub.execute_input": "2023-12-23T00:22:53.267796Z",
     "iopub.status.busy": "2023-12-23T00:22:53.267283Z",
     "iopub.status.idle": "2023-12-23T00:22:53.351541Z",
     "shell.execute_reply": "2023-12-23T00:22:53.350631Z",
     "shell.execute_reply.started": "2023-12-23T00:22:53.267767Z"
    }
   },
   "outputs": [],
   "source": [
    "# Create training and validation datasets from the split\n",
    "# создадим экземляр класса CityDataset\n",
    "city_dataset = CityDataset(input_ids, attention_mask, labels)\n",
    "\n",
    "# Функция Data collator\n",
    "def data_collator(features):\n",
    "    batch = {}\n",
    "    batch['input_ids'] = torch.stack([f['input_ids'] for f in features])\n",
    "    batch['attention_mask'] = torch.stack([f['attention_mask'] for f in features])\n",
    "    batch['labels'] = torch.stack([f['labels'] for f in features])\n",
    "    return batch\n",
    "\n",
    "train_dataset = CityDataset(input_ids_train, attention_mask_train, labels_train)\n",
    "val_dataset = CityDataset(input_ids_val, attention_mask_val, labels_val)"
   ]
  },
  {
   "cell_type": "code",
   "execution_count": 23,
   "metadata": {
    "execution": {
     "iopub.execute_input": "2023-12-23T00:22:55.601301Z",
     "iopub.status.busy": "2023-12-23T00:22:55.600275Z",
     "iopub.status.idle": "2023-12-23T00:22:55.686019Z",
     "shell.execute_reply": "2023-12-23T00:22:55.685103Z",
     "shell.execute_reply.started": "2023-12-23T00:22:55.601252Z"
    }
   },
   "outputs": [],
   "source": [
    "# Additional setup for validation, loss tracking, and consistent device usage\n",
    "train_dataloader = DataLoader(train_dataset, batch_size=16, shuffle=True, collate_fn=data_collator)\n",
    "val_dataloader = DataLoader(val_dataset, batch_size=16, collate_fn=data_collator)\n"
   ]
  },
  {
   "cell_type": "markdown",
   "metadata": {
    "id": "6UtSpLaqUYhf"
   },
   "source": [
    "Определим оптимизатор"
   ]
  },
  {
   "cell_type": "code",
   "execution_count": 24,
   "metadata": {
    "colab": {
     "base_uri": "https://localhost:8080/"
    },
    "execution": {
     "iopub.execute_input": "2023-12-23T00:23:12.177017Z",
     "iopub.status.busy": "2023-12-23T00:23:12.176550Z",
     "iopub.status.idle": "2023-12-23T00:23:12.268018Z",
     "shell.execute_reply": "2023-12-23T00:23:12.267093Z",
     "shell.execute_reply.started": "2023-12-23T00:23:12.176975Z"
    },
    "id": "nLDnFKr9YRnj",
    "outputId": "eb0222ff-dd24-48f8-ecfb-bbd0d30bd34d"
   },
   "outputs": [
    {
     "name": "stderr",
     "output_type": "stream",
     "text": [
      "/opt/conda/lib/python3.10/site-packages/transformers/optimization.py:429: FutureWarning: This implementation of AdamW is deprecated and will be removed in a future version. Use the PyTorch implementation torch.optim.AdamW instead, or set `no_deprecation_warning=True` to disable this warning\n",
      "  warnings.warn(\n"
     ]
    }
   ],
   "source": [
    "# Определение оптимизатора и настройка параметров обучения\n",
    "optimizer = AdamW(mbart_model.parameters(), lr=5e-5)"
   ]
  },
  {
   "cell_type": "markdown",
   "metadata": {
    "id": "ya2w4dyBUdpc"
   },
   "source": [
    "Определим количество эпох"
   ]
  },
  {
   "cell_type": "code",
   "execution_count": 25,
   "metadata": {
    "execution": {
     "iopub.execute_input": "2023-12-23T00:23:13.987289Z",
     "iopub.status.busy": "2023-12-23T00:23:13.986543Z",
     "iopub.status.idle": "2023-12-23T00:23:14.074138Z",
     "shell.execute_reply": "2023-12-23T00:23:14.072972Z",
     "shell.execute_reply.started": "2023-12-23T00:23:13.987253Z"
    },
    "id": "PMumm-IDZIY_"
   },
   "outputs": [],
   "source": [
    "# Количество эпох и шагов для обучения\n",
    "num_epochs = 8\n",
    "num_training_steps = len(train_dataloader) * num_epochs"
   ]
  },
  {
   "cell_type": "markdown",
   "metadata": {
    "id": "ieRlDy4YUhIk"
   },
   "source": [
    "Настроим параметры обучения"
   ]
  },
  {
   "cell_type": "code",
   "execution_count": 26,
   "metadata": {
    "execution": {
     "iopub.execute_input": "2023-12-23T00:23:17.035721Z",
     "iopub.status.busy": "2023-12-23T00:23:17.034770Z",
     "iopub.status.idle": "2023-12-23T00:23:17.119685Z",
     "shell.execute_reply": "2023-12-23T00:23:17.118809Z",
     "shell.execute_reply.started": "2023-12-23T00:23:17.035681Z"
    },
    "id": "bU0-PjIqY-SV"
   },
   "outputs": [],
   "source": [
    "# настройка параметров обучения\n",
    "scheduler = get_linear_schedule_with_warmup(optimizer,\n",
    "                                        num_warmup_steps=0,\n",
    "                                        num_training_steps=num_training_steps)"
   ]
  },
  {
   "cell_type": "markdown",
   "metadata": {
    "id": "VsvTYVbVUl1Y"
   },
   "source": [
    "Определим устройство GPU и передадим ему модель."
   ]
  },
  {
   "cell_type": "code",
   "execution_count": 27,
   "metadata": {
    "colab": {
     "base_uri": "https://localhost:8080/"
    },
    "execution": {
     "iopub.execute_input": "2023-12-23T00:23:19.638943Z",
     "iopub.status.busy": "2023-12-23T00:23:19.638222Z",
     "iopub.status.idle": "2023-12-23T00:23:22.884030Z",
     "shell.execute_reply": "2023-12-23T00:23:22.883025Z",
     "shell.execute_reply.started": "2023-12-23T00:23:19.638906Z"
    },
    "id": "luoOyO76GbjJ",
    "outputId": "0ffadb95-4665-40ee-b110-08c249d9b6f8"
   },
   "outputs": [
    {
     "name": "stdout",
     "output_type": "stream",
     "text": [
      "Let's use 2 GPUs!\n"
     ]
    }
   ],
   "source": [
    "# использовать GPU в случае, если у нас будет такая возможность\n",
    "device = torch.device(\"cuda:1\") if torch.cuda.is_available() else torch.device(\"cpu\")\n",
    "\n",
    "mbart_model.to(device)\n",
    "\n",
    "# Если есть несколько GPU\n",
    "\n",
    "if torch.cuda.device_count() > 1:\n",
    "    print(\"Let's use\", torch.cuda.device_count(), \"GPUs!\")\n",
    "    mbart_model = nn.DataParallel(mbart_model, device_ids=[1, 0])"
   ]
  },
  {
   "cell_type": "markdown",
   "metadata": {
    "id": "GcquZR2yU7rg"
   },
   "source": [
    "Теперь начнем обучение"
   ]
  },
  {
   "cell_type": "code",
   "execution_count": 28,
   "metadata": {
    "colab": {
     "base_uri": "https://localhost:8080/",
     "height": 49,
     "referenced_widgets": [
      "5d367292721349d194e14702c8f92a76",
      "b21c8f95426c4f5c86b5d75728e57a96",
      "b82624fa11914bc9921a28aacd4566ab",
      "e16383e9023740889e33929350a654c4",
      "92a6d3fb2b4b41e09c261b0c166b4e1e",
      "7339604a46ab4f4fb72ab0d7535b22dd",
      "5e49e47338db4c8d80194987dd7503a5",
      "e155e88e3d4c4edaace4c928c596e085",
      "e924d4fa65db4a3b81651c2a7ad8e77d",
      "058c14b6407d44c2bbfbacb946d40795",
      "820b359ea2ba426b983c7bc711ad4718"
     ]
    },
    "execution": {
     "iopub.execute_input": "2023-12-23T00:23:29.226238Z",
     "iopub.status.busy": "2023-12-23T00:23:29.225350Z",
     "iopub.status.idle": "2023-12-23T06:19:45.394397Z",
     "shell.execute_reply": "2023-12-23T06:19:45.393386Z",
     "shell.execute_reply.started": "2023-12-23T00:23:29.226192Z"
    },
    "id": "WsFcZSdwGbgS",
    "outputId": "93fa5b17-8bb2-4295-da35-39ce4cb9e402"
   },
   "outputs": [
    {
     "data": {
      "application/vnd.jupyter.widget-view+json": {
       "model_id": "495e325bc0db4686836bcb2acf914cb1",
       "version_major": 2,
       "version_minor": 0
      },
      "text/plain": [
       "  0%|          | 0/21176 [00:00<?, ?it/s]"
      ]
     },
     "metadata": {},
     "output_type": "display_data"
    },
    {
     "name": "stderr",
     "output_type": "stream",
     "text": [
      "/opt/conda/lib/python3.10/site-packages/torch/nn/parallel/_functions.py:68: UserWarning: Was asked to gather along dimension 0, but all input tensors were scalars; will instead unsqueeze and return a vector.\n",
      "  warnings.warn('Was asked to gather along dimension 0, but all '\n"
     ]
    },
    {
     "name": "stdout",
     "output_type": "stream",
     "text": [
      "Train Loss for epoch 1: 0.3216053770667186\n",
      "Validation Loss for epoch 1: 0.10830513246648972\n",
      "Train Loss for epoch 2: 0.05764568902163872\n",
      "Validation Loss for epoch 2: 0.07335579529641664\n",
      "Train Loss for epoch 3: 0.020760579741589215\n",
      "Validation Loss for epoch 3: 0.06323992654734727\n",
      "Train Loss for epoch 4: 0.009985749857983823\n",
      "Validation Loss for epoch 4: 0.06488018874449569\n",
      "Train Loss for epoch 5: 0.005755285534919733\n",
      "Validation Loss for epoch 5: 0.05692425142449068\n",
      "Train Loss for epoch 6: 0.003433150064887099\n",
      "Validation Loss for epoch 6: 0.04988281113215265\n",
      "Train Loss for epoch 7: 0.0017402949327766357\n",
      "Validation Loss for epoch 7: 0.04935292155528028\n",
      "Train Loss for epoch 8: 0.0010005620061387579\n",
      "Validation Loss for epoch 8: 0.048332689799174704\n"
     ]
    }
   ],
   "source": [
    "# Цикл обучения\n",
    "progress_bar = tqdm(range(num_training_steps))\n",
    "\n",
    "for epoch in range(num_epochs):\n",
    "    mbart_model.train()\n",
    "    \n",
    "    epoch_losses = []\n",
    "    epoch_numbers = []\n",
    "    \n",
    "    for batch in train_dataloader:\n",
    "\n",
    "        # Распаковка данных из batch\n",
    "        input_ids = batch['input_ids'].to(device)\n",
    "        attention_mask = batch['attention_mask'].to(device)\n",
    "        labels = batch['labels'].to(device)\n",
    "\n",
    "        # Проход вперед (Forward pass)\n",
    "        outputs = mbart_model(input_ids=input_ids, \n",
    "                              attention_mask=attention_mask,\n",
    "                              labels=labels)\n",
    "        loss = outputs.loss\n",
    "        loss = loss.mean()\n",
    "        \n",
    "        # Обратный проход (Backward pass)\n",
    "        loss.backward()\n",
    "\n",
    "        # Обновление параметров модели\n",
    "        optimizer.step()\n",
    "        scheduler.step()\n",
    "        optimizer.zero_grad()\n",
    "                \n",
    "        epoch_losses.append(loss.item())\n",
    "        progress_bar.update(1)\n",
    "    \n",
    "    mbart_model.eval()  # Set the model to evaluation mode\n",
    "    val_losses = []\n",
    "    for batch in val_dataloader:\n",
    "        with torch.no_grad():\n",
    "            input_ids = batch['input_ids'].to(device)\n",
    "            attention_mask = batch['attention_mask'].to(device)\n",
    "            labels = batch['labels'].to(device)\n",
    "        \n",
    "            # Forward pass for validation\n",
    "            outputs = mbart_model(input_ids=input_ids, \n",
    "                                  attention_mask=attention_mask, \n",
    "                                  labels=labels)\n",
    "            val_loss = outputs.loss\n",
    "            val_loss = val_loss.mean()\n",
    "            val_losses.append(val_loss.item())\n",
    "\n",
    "        progress_bar.update(1)\n",
    "        \n",
    "    # Calculate and print average validation loss for this epoch\n",
    "    avg_train_loss = sum(epoch_losses) / len(epoch_losses)\n",
    "    print(f'Train Loss for epoch {epoch + 1}: {avg_train_loss}')    \n",
    "        \n",
    "    # Calculate and print average validation loss for this epoch\n",
    "    avg_val_loss = sum(val_losses) / len(val_losses)\n",
    "    print(f'Validation Loss for epoch {epoch + 1}: {avg_val_loss}')"
   ]
  },
  {
   "cell_type": "markdown",
   "metadata": {
    "id": "5m2eRnuMVWqH"
   },
   "source": [
    "Сохраним модель и токенизатор, а также все необходимые файлы."
   ]
  },
  {
   "cell_type": "code",
   "execution_count": 30,
   "metadata": {
    "execution": {
     "iopub.execute_input": "2023-12-23T06:22:33.505163Z",
     "iopub.status.busy": "2023-12-23T06:22:33.504755Z",
     "iopub.status.idle": "2023-12-23T06:23:01.286221Z",
     "shell.execute_reply": "2023-12-23T06:23:01.285010Z",
     "shell.execute_reply.started": "2023-12-23T06:22:33.505133Z"
    }
   },
   "outputs": [
    {
     "data": {
      "text/plain": [
       "('/kaggle/working/mbart_aug/tokenizer_config.json',\n",
       " '/kaggle/working/mbart_aug/special_tokens_map.json',\n",
       " '/kaggle/working/mbart_aug/sentencepiece.bpe.model',\n",
       " '/kaggle/working/mbart_aug/added_tokens.json',\n",
       " '/kaggle/working/mbart_aug/tokenizer.json')"
      ]
     },
     "execution_count": 30,
     "metadata": {},
     "output_type": "execute_result"
    }
   ],
   "source": [
    "# Сохранение дообученной модели\n",
    "output_model_path = \"/kaggle/working/mbart_aug\"\n",
    "mbart_model.module.save_pretrained(output_model_path)\n",
    "tokenizer.save_pretrained(output_model_path)\n",
    "# Сохранение файла pytorch_model.bin\n",
    "state_dict = mbart_model.state_dict()\n",
    "torch.save(state_dict, \"/kaggle/working/mbart_aug/pytorch_model.bin\")\n",
    "tokenizer.save_pretrained(output_model_path)"
   ]
  },
  {
   "cell_type": "markdown",
   "metadata": {
    "id": "yEcF31T1kpaB"
   },
   "source": [
    "## Анализ обученной модели"
   ]
  },
  {
   "cell_type": "markdown",
   "metadata": {
    "id": "jZmi93inkpaB"
   },
   "source": [
    "**Анализ выборки:** \n",
    "\n",
    "Выборка альтернативных имен имеен различные виды написания оригинальных названий городов. Количество оригинальных написаний для каждого города разное. Но также некоторые написания городов отсутствуют, например, \"екб\" - для Екатеринбурга.\n",
    "\n",
    "**Анализ модели:** Модель обучена на 8 эпохах с использованием аугментации для каждого слова из альтернативных имен. (была создана одна случайная опечатка).\n",
    "\n",
    "При оценке качества модели тем же способом, что и в файле `geonames _test_file`, показала результаты `'score' = 0.8276` чуть хуже, чем модель на 4 эпохах с аугментациями `'score' = 0.8448` (которая и была добавлена на hugginFace и использовалась для демонстрации результатов на тестовой выборке). \n",
    "Но при этом, можно заметить, что функция Loss продолжает падать и не вышло в область 'плато'. \n",
    "\n",
    "```\n",
    "Train Loss for epoch 1: 0.3216053770667186\n",
    "Validation Loss for epoch 1: 0.10830513246648972\n",
    "Train Loss for epoch 2: 0.05764568902163872\n",
    "Validation Loss for epoch 2: 0.07335579529641664\n",
    "Train Loss for epoch 3: 0.020760579741589215\n",
    "Validation Loss for epoch 3: 0.06323992654734727\n",
    "Train Loss for epoch 4: 0.009985749857983823\n",
    "Validation Loss for epoch 4: 0.06488018874449569\n",
    "Train Loss for epoch 5: 0.005755285534919733\n",
    "Validation Loss for epoch 5: 0.05692425142449068\n",
    "Train Loss for epoch 6: 0.003433150064887099\n",
    "Validation Loss for epoch 6: 0.04988281113215265\n",
    "Train Loss for epoch 7: 0.0017402949327766357\n",
    "Validation Loss for epoch 7: 0.04935292155528028\n",
    "Train Loss for epoch 8: 0.0010005620061387579\n",
    "Validation Loss for epoch 8: 0.048332689799174704\n",
    "```\n",
    "То есть, чтобы добиться лучших показателей от модели, нужно рассчитать большее количество эпох и по Loss функции выбрать наиболее оптимальную. \n",
    "\n",
    "Так как нет мощностей для расчета на большее количество эпох, данный вопрос оставляю открытым.\n",
    "\n",
    "Как можно было бы улучишь качество:\n",
    "\n",
    "- Качество данных на входе: оценить еще раз те слова, которые модель не смогла предугадать, и добавить дополнительные аугментации.\n",
    "- Анализ ошибок: к примеру модель сильно ошибается, когда названия городов исковерканы значительно, то есть более 3-4 ошибок в слове, зато почти идеально работает с меньшим количеством ошибок в слове.\n",
    "\n",
    "В целом, нужно понимать, что у слова есть некий порог узнаваемости, то есть существует приемлемое количество ошибок, которые ты можешь совершить для того, чтобы модель (а может и человек) поняла какой город имеется ввиду. Например, для слова из 4 букв - 2 ошибки достаточно критичны, то есть слово достаточно сильно изменено."
   ]
  },
  {
   "cell_type": "code",
   "execution_count": null,
   "metadata": {
    "id": "DvNa0Un-kpaQ"
   },
   "outputs": [],
   "source": []
  }
 ],
 "metadata": {
  "ExecuteTimeLog": [
   {
    "duration": 48,
    "start_time": "2023-07-26T14:57:15.827Z"
   },
   {
    "duration": 2856,
    "start_time": "2023-07-26T15:01:05.938Z"
   },
   {
    "duration": 137,
    "start_time": "2023-07-26T15:01:08.796Z"
   },
   {
    "duration": 15,
    "start_time": "2023-07-26T15:01:08.935Z"
   },
   {
    "duration": 446,
    "start_time": "2023-07-26T15:01:08.953Z"
   },
   {
    "duration": 104,
    "start_time": "2023-07-26T15:01:09.401Z"
   },
   {
    "duration": 18,
    "start_time": "2023-07-26T15:01:09.507Z"
   },
   {
    "duration": 43,
    "start_time": "2023-07-26T15:01:09.526Z"
   },
   {
    "duration": 114224,
    "start_time": "2023-07-26T15:01:09.570Z"
   },
   {
    "duration": 1901,
    "start_time": "2023-07-26T15:03:03.796Z"
   },
   {
    "duration": 28,
    "start_time": "2023-07-26T15:03:05.699Z"
   },
   {
    "duration": 1636,
    "start_time": "2023-07-26T15:03:05.730Z"
   }
  ],
  "accelerator": "GPU",
  "colab": {
   "gpuType": "T4",
   "provenance": []
  },
  "kaggle": {
   "accelerator": "nvidiaTeslaT4",
   "dataSources": [
    {
     "datasetId": 4209288,
     "sourceId": 7262707,
     "sourceType": "datasetVersion"
    }
   ],
   "dockerImageVersionId": 30627,
   "isGpuEnabled": true,
   "isInternetEnabled": true,
   "language": "python",
   "sourceType": "notebook"
  },
  "kernelspec": {
   "display_name": "Python 3 (ipykernel)",
   "language": "python",
   "name": "python3"
  },
  "language_info": {
   "codemirror_mode": {
    "name": "ipython",
    "version": 3
   },
   "file_extension": ".py",
   "mimetype": "text/x-python",
   "name": "python",
   "nbconvert_exporter": "python",
   "pygments_lexer": "ipython3",
   "version": "3.9.15"
  },
  "toc": {
   "base_numbering": 1,
   "nav_menu": {},
   "number_sections": true,
   "sideBar": true,
   "skip_h1_title": true,
   "title_cell": "Table of Contents",
   "title_sidebar": "Contents",
   "toc_cell": false,
   "toc_position": {
    "height": "calc(100% - 180px)",
    "left": "10px",
    "top": "150px",
    "width": "166px"
   },
   "toc_section_display": true,
   "toc_window_display": true
  },
  "widgets": {
   "application/vnd.jupyter.widget-state+json": {
    "058c14b6407d44c2bbfbacb946d40795": {
     "model_module": "@jupyter-widgets/base",
     "model_module_version": "1.2.0",
     "model_name": "LayoutModel",
     "state": {
      "_model_module": "@jupyter-widgets/base",
      "_model_module_version": "1.2.0",
      "_model_name": "LayoutModel",
      "_view_count": null,
      "_view_module": "@jupyter-widgets/base",
      "_view_module_version": "1.2.0",
      "_view_name": "LayoutView",
      "align_content": null,
      "align_items": null,
      "align_self": null,
      "border": null,
      "bottom": null,
      "display": null,
      "flex": null,
      "flex_flow": null,
      "grid_area": null,
      "grid_auto_columns": null,
      "grid_auto_flow": null,
      "grid_auto_rows": null,
      "grid_column": null,
      "grid_gap": null,
      "grid_row": null,
      "grid_template_areas": null,
      "grid_template_columns": null,
      "grid_template_rows": null,
      "height": null,
      "justify_content": null,
      "justify_items": null,
      "left": null,
      "margin": null,
      "max_height": null,
      "max_width": null,
      "min_height": null,
      "min_width": null,
      "object_fit": null,
      "object_position": null,
      "order": null,
      "overflow": null,
      "overflow_x": null,
      "overflow_y": null,
      "padding": null,
      "right": null,
      "top": null,
      "visibility": null,
      "width": null
     }
    },
    "5d367292721349d194e14702c8f92a76": {
     "model_module": "@jupyter-widgets/controls",
     "model_module_version": "1.5.0",
     "model_name": "HBoxModel",
     "state": {
      "_dom_classes": [],
      "_model_module": "@jupyter-widgets/controls",
      "_model_module_version": "1.5.0",
      "_model_name": "HBoxModel",
      "_view_count": null,
      "_view_module": "@jupyter-widgets/controls",
      "_view_module_version": "1.5.0",
      "_view_name": "HBoxView",
      "box_style": "",
      "children": [
       "IPY_MODEL_b21c8f95426c4f5c86b5d75728e57a96",
       "IPY_MODEL_b82624fa11914bc9921a28aacd4566ab",
       "IPY_MODEL_e16383e9023740889e33929350a654c4"
      ],
      "layout": "IPY_MODEL_92a6d3fb2b4b41e09c261b0c166b4e1e"
     }
    },
    "5e49e47338db4c8d80194987dd7503a5": {
     "model_module": "@jupyter-widgets/controls",
     "model_module_version": "1.5.0",
     "model_name": "DescriptionStyleModel",
     "state": {
      "_model_module": "@jupyter-widgets/controls",
      "_model_module_version": "1.5.0",
      "_model_name": "DescriptionStyleModel",
      "_view_count": null,
      "_view_module": "@jupyter-widgets/base",
      "_view_module_version": "1.2.0",
      "_view_name": "StyleView",
      "description_width": ""
     }
    },
    "7339604a46ab4f4fb72ab0d7535b22dd": {
     "model_module": "@jupyter-widgets/base",
     "model_module_version": "1.2.0",
     "model_name": "LayoutModel",
     "state": {
      "_model_module": "@jupyter-widgets/base",
      "_model_module_version": "1.2.0",
      "_model_name": "LayoutModel",
      "_view_count": null,
      "_view_module": "@jupyter-widgets/base",
      "_view_module_version": "1.2.0",
      "_view_name": "LayoutView",
      "align_content": null,
      "align_items": null,
      "align_self": null,
      "border": null,
      "bottom": null,
      "display": null,
      "flex": null,
      "flex_flow": null,
      "grid_area": null,
      "grid_auto_columns": null,
      "grid_auto_flow": null,
      "grid_auto_rows": null,
      "grid_column": null,
      "grid_gap": null,
      "grid_row": null,
      "grid_template_areas": null,
      "grid_template_columns": null,
      "grid_template_rows": null,
      "height": null,
      "justify_content": null,
      "justify_items": null,
      "left": null,
      "margin": null,
      "max_height": null,
      "max_width": null,
      "min_height": null,
      "min_width": null,
      "object_fit": null,
      "object_position": null,
      "order": null,
      "overflow": null,
      "overflow_x": null,
      "overflow_y": null,
      "padding": null,
      "right": null,
      "top": null,
      "visibility": null,
      "width": null
     }
    },
    "820b359ea2ba426b983c7bc711ad4718": {
     "model_module": "@jupyter-widgets/controls",
     "model_module_version": "1.5.0",
     "model_name": "DescriptionStyleModel",
     "state": {
      "_model_module": "@jupyter-widgets/controls",
      "_model_module_version": "1.5.0",
      "_model_name": "DescriptionStyleModel",
      "_view_count": null,
      "_view_module": "@jupyter-widgets/base",
      "_view_module_version": "1.2.0",
      "_view_name": "StyleView",
      "description_width": ""
     }
    },
    "92a6d3fb2b4b41e09c261b0c166b4e1e": {
     "model_module": "@jupyter-widgets/base",
     "model_module_version": "1.2.0",
     "model_name": "LayoutModel",
     "state": {
      "_model_module": "@jupyter-widgets/base",
      "_model_module_version": "1.2.0",
      "_model_name": "LayoutModel",
      "_view_count": null,
      "_view_module": "@jupyter-widgets/base",
      "_view_module_version": "1.2.0",
      "_view_name": "LayoutView",
      "align_content": null,
      "align_items": null,
      "align_self": null,
      "border": null,
      "bottom": null,
      "display": null,
      "flex": null,
      "flex_flow": null,
      "grid_area": null,
      "grid_auto_columns": null,
      "grid_auto_flow": null,
      "grid_auto_rows": null,
      "grid_column": null,
      "grid_gap": null,
      "grid_row": null,
      "grid_template_areas": null,
      "grid_template_columns": null,
      "grid_template_rows": null,
      "height": null,
      "justify_content": null,
      "justify_items": null,
      "left": null,
      "margin": null,
      "max_height": null,
      "max_width": null,
      "min_height": null,
      "min_width": null,
      "object_fit": null,
      "object_position": null,
      "order": null,
      "overflow": null,
      "overflow_x": null,
      "overflow_y": null,
      "padding": null,
      "right": null,
      "top": null,
      "visibility": null,
      "width": null
     }
    },
    "b21c8f95426c4f5c86b5d75728e57a96": {
     "model_module": "@jupyter-widgets/controls",
     "model_module_version": "1.5.0",
     "model_name": "HTMLModel",
     "state": {
      "_dom_classes": [],
      "_model_module": "@jupyter-widgets/controls",
      "_model_module_version": "1.5.0",
      "_model_name": "HTMLModel",
      "_view_count": null,
      "_view_module": "@jupyter-widgets/controls",
      "_view_module_version": "1.5.0",
      "_view_name": "HTMLView",
      "description": "",
      "description_tooltip": null,
      "layout": "IPY_MODEL_7339604a46ab4f4fb72ab0d7535b22dd",
      "placeholder": "​",
      "style": "IPY_MODEL_5e49e47338db4c8d80194987dd7503a5",
      "value": "100%"
     }
    },
    "b82624fa11914bc9921a28aacd4566ab": {
     "model_module": "@jupyter-widgets/controls",
     "model_module_version": "1.5.0",
     "model_name": "FloatProgressModel",
     "state": {
      "_dom_classes": [],
      "_model_module": "@jupyter-widgets/controls",
      "_model_module_version": "1.5.0",
      "_model_name": "FloatProgressModel",
      "_view_count": null,
      "_view_module": "@jupyter-widgets/controls",
      "_view_module_version": "1.5.0",
      "_view_name": "ProgressView",
      "bar_style": "",
      "description": "",
      "description_tooltip": null,
      "layout": "IPY_MODEL_e155e88e3d4c4edaace4c928c596e085",
      "max": 6088,
      "min": 0,
      "orientation": "horizontal",
      "style": "IPY_MODEL_e924d4fa65db4a3b81651c2a7ad8e77d",
      "value": 6088
     }
    },
    "e155e88e3d4c4edaace4c928c596e085": {
     "model_module": "@jupyter-widgets/base",
     "model_module_version": "1.2.0",
     "model_name": "LayoutModel",
     "state": {
      "_model_module": "@jupyter-widgets/base",
      "_model_module_version": "1.2.0",
      "_model_name": "LayoutModel",
      "_view_count": null,
      "_view_module": "@jupyter-widgets/base",
      "_view_module_version": "1.2.0",
      "_view_name": "LayoutView",
      "align_content": null,
      "align_items": null,
      "align_self": null,
      "border": null,
      "bottom": null,
      "display": null,
      "flex": null,
      "flex_flow": null,
      "grid_area": null,
      "grid_auto_columns": null,
      "grid_auto_flow": null,
      "grid_auto_rows": null,
      "grid_column": null,
      "grid_gap": null,
      "grid_row": null,
      "grid_template_areas": null,
      "grid_template_columns": null,
      "grid_template_rows": null,
      "height": null,
      "justify_content": null,
      "justify_items": null,
      "left": null,
      "margin": null,
      "max_height": null,
      "max_width": null,
      "min_height": null,
      "min_width": null,
      "object_fit": null,
      "object_position": null,
      "order": null,
      "overflow": null,
      "overflow_x": null,
      "overflow_y": null,
      "padding": null,
      "right": null,
      "top": null,
      "visibility": null,
      "width": null
     }
    },
    "e16383e9023740889e33929350a654c4": {
     "model_module": "@jupyter-widgets/controls",
     "model_module_version": "1.5.0",
     "model_name": "HTMLModel",
     "state": {
      "_dom_classes": [],
      "_model_module": "@jupyter-widgets/controls",
      "_model_module_version": "1.5.0",
      "_model_name": "HTMLModel",
      "_view_count": null,
      "_view_module": "@jupyter-widgets/controls",
      "_view_module_version": "1.5.0",
      "_view_name": "HTMLView",
      "description": "",
      "description_tooltip": null,
      "layout": "IPY_MODEL_058c14b6407d44c2bbfbacb946d40795",
      "placeholder": "​",
      "style": "IPY_MODEL_820b359ea2ba426b983c7bc711ad4718",
      "value": " 6088/6088 [48:32&lt;00:00,  2.37it/s]"
     }
    },
    "e924d4fa65db4a3b81651c2a7ad8e77d": {
     "model_module": "@jupyter-widgets/controls",
     "model_module_version": "1.5.0",
     "model_name": "ProgressStyleModel",
     "state": {
      "_model_module": "@jupyter-widgets/controls",
      "_model_module_version": "1.5.0",
      "_model_name": "ProgressStyleModel",
      "_view_count": null,
      "_view_module": "@jupyter-widgets/base",
      "_view_module_version": "1.2.0",
      "_view_name": "StyleView",
      "bar_color": null,
      "description_width": ""
     }
    }
   }
  }
 },
 "nbformat": 4,
 "nbformat_minor": 4
}
